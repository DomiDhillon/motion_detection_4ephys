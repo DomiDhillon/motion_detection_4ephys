{
 "cells": [
  {
   "cell_type": "markdown",
   "id": "4eece510-3b36-43f4-b65d-727743e31674",
   "metadata": {},
   "source": [
    "# **Notes**\n",
    "\n",
    "+ Info about rat positions on the video and recording channels\n",
    "    + w628 -> Neuropix 0 & 1; RIGHT on the video ===>>> RAT 2\n",
    "    + w627 -> Neuropix 2 & 3; LEFT on the video (cf stickers on the vid) ===>>> RAT 1\n",
    "    <br>\n",
    "    <br>\n",
    "+ Remarque on precising path to package: <br>\n",
    "    + *vpp* contains 2 packages: *video_processing* & *utils*. <br>\n",
    "    + In this notebook we will use functions form modules in *utils*. To import these modules we need to add path to *vpp* folder to th paths where python will look for imports.\n",
    "    + It is possible to verify that folder we need is within the considered paths with **sys.path** command"
   ]
  },
  {
   "cell_type": "code",
   "execution_count": null,
   "id": "7dbeb0b5-d3db-41b3-8a21-dddd0e1f9129",
   "metadata": {},
   "outputs": [],
   "source": [
    "import os\n",
    "import sys\n",
    "import glob\n",
    "sys.path.append(os.path.join(os.getcwd(),\"vpp\"))"
   ]
  },
  {
   "cell_type": "code",
   "execution_count": null,
   "id": "d80960c6-a8d6-4853-a72c-2dbd534c5aa5",
   "metadata": {},
   "outputs": [],
   "source": [
    "from utils import plot_mvm, mvm2txt, chopOffTail, rescalingNOF, syncFileCreator, plot_mvm_rescaled"
   ]
  },
  {
   "cell_type": "code",
   "execution_count": null,
   "id": "21e6a525-6ffd-44af-8473-6e4b0b6bd30b",
   "metadata": {},
   "outputs": [],
   "source": [
    "# ASSIGN SESSION FOLDER\n",
    "w628 = \"/.../\"\n",
    "\n",
    "# 1) CREATE SYNC FILE\n",
    "syncFileCreator(TTL2_folder = \"/.../\",\n",
    "            lfp_tmp_folder = \"/.../\",\n",
    "            output_sync_txt = w628)\n",
    "\n",
    "# 2) EXPORT MOVEMENT TO TXT\n",
    "mvm2txt(glob.glob(w628+\"*.csv\")[0],\n",
    "        path2vid = glob.glob(w628+\"*.mp4\")[0],\n",
    "        path2ephysTime = glob.glob(w628+\"*_sec.txt\")[0],\n",
    "        rat=2)\n",
    "\n",
    "# 3) RESCALE NUMBER OF FRAMES\n",
    "rescalingNOF(path2ephysTime = glob.glob(w628+\"*_sec.txt\")[0],\n",
    "             path2mvm = glob.glob(w628+\"*mvm.txt\")[0],\n",
    "             path2duration = glob.glob(w628+\"*duration.txt\")[0])\n",
    "\n",
    "# 4) PLOT RESCALED MOVEMENT\n",
    "plot_mvm_rescaled(path2duration = glob.glob(w628+\"*duration_rescaled.txt\")[0],\n",
    "                  path2mvm = glob.glob(w628+\"*mvm_rescaled.txt\")[0],\n",
    "                  f=25, plot_all = True, CIlim=0.90)"
   ]
  }
 ],
 "metadata": {
  "kernelspec": {
   "display_name": "vidpenv",
   "language": "python",
   "name": "vidpenv"
  },
  "language_info": {
   "codemirror_mode": {
    "name": "ipython",
    "version": 3
   },
   "file_extension": ".py",
   "mimetype": "text/x-python",
   "name": "python",
   "nbconvert_exporter": "python",
   "pygments_lexer": "ipython3",
   "version": "3.7.11"
  }
 },
 "nbformat": 4,
 "nbformat_minor": 5
}
